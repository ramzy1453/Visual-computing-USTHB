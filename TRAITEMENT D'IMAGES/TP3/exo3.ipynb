{
 "cells": [
  {
   "cell_type": "code",
   "execution_count": null,
   "metadata": {},
   "outputs": [],
   "source": [
    "import numpy as np\n",
    "import cv2\n",
    "image = cv2.imread(\"images/image2.png\", cv2.IMREAD_GRAYSCALE)"
   ]
  },
  {
   "cell_type": "code",
   "execution_count": null,
   "metadata": {},
   "outputs": [],
   "source": [
    "image = cv2.imread(\"images/image2.png\", cv2.IMREAD_GRAYSCALE)\n",
    "filter_2D = np.array([[[1],[4],[6],[4],[1]],[[4],[16],[24],[16],[4]],[[6],[24],[36],[24],[6]],[[4],[16],[24],[16],[4]],[[1],[4],[6],[4],[1]]]) * (1/256)\n",
    "convolved_image = cv2.filter2D(image, -1, filter_2D)\n",
    "cv2.imshow('Original Image', image)\n",
    "cv2.imshow('Convolved Image', convolved_image)\n",
    "cv2.waitKey(0)\n",
    "cv2.destroyAllWindows()"
   ]
  },
  {
   "cell_type": "code",
   "execution_count": null,
   "metadata": {},
   "outputs": [],
   "source": [
    "gaussian_y = np.array([\n",
    "  [1],\n",
    "  [4],\n",
    "  [6],\n",
    "  [4],\n",
    "  [1]\n",
    "])\n",
    "gaussian_x = np.array([\n",
    "  [1, 4, 6, 4, 1]\n",
    "])\n",
    "gaussian_2D = np.dot(gaussian_y, gaussian_x) * (1/256)\n",
    "convolved_image = cv2.filter2D(image, -1, gaussian_2D)\n",
    "cv2.imshow('Original Image', image)\n",
    "cv2.imshow('Convolved Image', convolved_image)\n",
    "cv2.waitKey(0)\n",
    "cv2.destroyAllWindows()"
   ]
  }
 ],
 "metadata": {
  "kernelspec": {
   "display_name": "Python 3",
   "language": "python",
   "name": "python3"
  },
  "language_info": {
   "codemirror_mode": {
    "name": "ipython",
    "version": 3
   },
   "file_extension": ".py",
   "mimetype": "text/x-python",
   "name": "python",
   "nbconvert_exporter": "python",
   "pygments_lexer": "ipython3",
   "version": "3.12.0"
  }
 },
 "nbformat": 4,
 "nbformat_minor": 2
}
