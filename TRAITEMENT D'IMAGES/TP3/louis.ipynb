{
 "cells": [
  {
   "cell_type": "code",
   "execution_count": null,
   "metadata": {},
   "outputs": [],
   "source": [
    "import cv2 as cv\n",
    "import matplotlib.pyplot as plt\n",
    "import numpy as np"
   ]
  },
  {
   "cell_type": "code",
   "execution_count": null,
   "metadata": {},
   "outputs": [],
   "source": [
    "louis = cv.imread('Chess_Board.svg.png', cv.IMREAD_GRAYSCALE)\n",
    "img = cv.imread('rsz_1screenshot_from_2019-10-01_19-03-22.jpg', cv.IMREAD_GRAYSCALE)"
   ]
  },
  {
   "cell_type": "code",
   "execution_count": null,
   "metadata": {},
   "outputs": [],
   "source": [
    "def gradient(img, epsilon=1e-6):\n",
    "    # Calculate the gradient using simple differencing\n",
    "    gradient_x = np.gradient(img, axis=1)\n",
    "    gradient_y = np.gradient(img, axis=0)\n",
    "\n",
    "    # Calculate the magnitude of the gradient\n",
    "    magnitude = np.sqrt(gradient_x**2 + gradient_y**2)\n",
    "\n",
    "    # Normalize the magnitude to avoid division by zero\n",
    "    magnitude = np.where(magnitude < epsilon, epsilon, magnitude)\n",
    "\n",
    "    return gradient_x, gradient_y, magnitude\n"
   ]
  },
  {
   "cell_type": "code",
   "execution_count": null,
   "metadata": {},
   "outputs": [],
   "source": [
    "plt.imshow(gradient(img)[2])"
   ]
  },
  {
   "cell_type": "code",
   "execution_count": null,
   "metadata": {},
   "outputs": [],
   "source": [
    "img.shape"
   ]
  },
  {
   "cell_type": "code",
   "execution_count": null,
   "metadata": {},
   "outputs": [],
   "source": [
    "def laplacien(img):\n",
    "    \n",
    "    gradient_x = np.gradient(img, axis=1)\n",
    "    gradient_y = np.gradient(img, axis=0)\n",
    "    \n",
    "    gradient_x = np.gradient(gradient_x, axis=1)\n",
    "    gradient_y = np.gradient(gradient_y, axis=1)\n",
    "    \n",
    "    magnitude = np.sqrt(gradient_x**2 + gradient_y**2)\n",
    "    return magnitude"
   ]
  },
  {
   "cell_type": "code",
   "execution_count": null,
   "metadata": {},
   "outputs": [],
   "source": [
    "plt.imshow(laplacien(img))"
   ]
  },
  {
   "cell_type": "code",
   "execution_count": null,
   "metadata": {},
   "outputs": [],
   "source": [
    "Ix = cv.Sobel(img, cv.CV_64F, 1, 0, ksize=3)\n",
    "Iy = cv.Sobel(img, cv.CV_64F, 0, 1, ksize=3)\n",
    "\n",
    "Ix2 = Ix * Ix\n",
    "Iy2 = Iy * Iy\n",
    "Ixy = Ix * Iy\n",
    "\n",
    "Ix2 = cv.GaussianBlur(Ix2, (3, 3), 0)\n",
    "Iy2 = cv.GaussianBlur(Iy2, (3, 3), 0)\n",
    "Ixy = cv.GaussianBlur(Ixy, (3, 3), 0)\n",
    "\n",
    "plt.imshow(Ixy)"
   ]
  },
  {
   "cell_type": "code",
   "execution_count": null,
   "metadata": {},
   "outputs": [],
   "source": [
    "def corner_harris(img):\n",
    "    # compute the derivaties Ix and Iy by convolving the original image with the Sobel operator\n",
    "    Ix = cv.Sobel(img, cv.CV_64F, 1, 0, ksize=3)\n",
    "    Iy = cv.Sobel(img, cv.CV_64F, 0, 1, ksize=3)\n",
    "    \n",
    "    # compute the products of derivatives at every pixel\n",
    "    Ix2 = Ix * Ix\n",
    "    Iy2 = Iy * Iy\n",
    "    Ixy = Ix * Iy\n",
    "    # Convolve the image Ix2 , Iy2 and Ixy with the Gaussian filter, Define the strucute tensor for each pixel\n",
    "    \n",
    "    Ix2 = cv.GaussianBlur(Ix2, (3, 3), 0)\n",
    "    Iy2 = cv.GaussianBlur(Iy2, (3, 3), 0)\n",
    "    Ixy = cv.GaussianBlur(Ixy, (3, 3), 0)\n",
    "    \n",
    "    # Compute the response function for each pixel\n",
    "    k = 0.04\n",
    "    det = (Ix2 * Iy2) - (Ixy ** 2)\n",
    "    trace = Ix2 + Iy2\n",
    "    R = det - k * (trace ** 2)\n",
    "    \n",
    "    plt.imshow(det)\n",
    "    plt.show()\n",
    "    plt.imshow(trace)\n",
    "    plt.show()\n",
    "    plt.imshow(R)\n",
    "    plt.show()\n",
    "    \n",
    "    # Set a threshold T on the value R nd with pixels with responses above this threshold finally, compute the non-maximum suppression in order to pick up the optimal corners.\n",
    "    \n",
    "    T = 0.01 * R.max()\n",
    "    R[R < T] = 0\n",
    "    \n",
    "    # Non-maximum suppression\n",
    "    R = cv.dilate(R, None)\n",
    "    img[R > 0.01 * R.max()] = 255\n",
    "    \n",
    "    return img"
   ]
  },
  {
   "cell_type": "code",
   "execution_count": null,
   "metadata": {},
   "outputs": [],
   "source": [
    "plt.imshow(corner_harris(img))"
   ]
  },
  {
   "cell_type": "code",
   "execution_count": null,
   "metadata": {},
   "outputs": [],
   "source": [
    "harris = cv.cornerHarris(img, 2, 3, 0.04)"
   ]
  },
  {
   "cell_type": "code",
   "execution_count": null,
   "metadata": {},
   "outputs": [],
   "source": [
    "plt.imshow(harris)"
   ]
  },
  {
   "cell_type": "code",
   "execution_count": null,
   "metadata": {},
   "outputs": [],
   "source": []
  }
 ],
 "metadata": {
  "kernelspec": {
   "display_name": "Python 3",
   "language": "python",
   "name": "python3"
  },
  "language_info": {
   "codemirror_mode": {
    "name": "ipython",
    "version": 3
   },
   "file_extension": ".py",
   "mimetype": "text/x-python",
   "name": "python",
   "nbconvert_exporter": "python",
   "pygments_lexer": "ipython3",
   "version": "3.12.0"
  }
 },
 "nbformat": 4,
 "nbformat_minor": 2
}
